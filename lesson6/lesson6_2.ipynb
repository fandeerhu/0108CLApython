{
 "cells": [
  {
   "cell_type": "code",
   "execution_count": 7,
   "metadata": {},
   "outputs": [
    {
     "ename": "ModuleNotFoundError",
     "evalue": "No module named 'machine'",
     "output_type": "error",
     "traceback": [
      "\u001b[1;31m---------------------------------------------------------------------------\u001b[0m",
      "\u001b[1;31mModuleNotFoundError\u001b[0m                       Traceback (most recent call last)",
      "Cell \u001b[1;32mIn[7], line 1\u001b[0m\n\u001b[1;32m----> 1\u001b[0m \u001b[38;5;28;01mfrom\u001b[39;00m \u001b[38;5;21;01mmachine\u001b[39;00m \u001b[38;5;28;01mimport\u001b[39;00m Pin,Timer\n\u001b[0;32m      3\u001b[0m led25 \u001b[38;5;241m=\u001b[39m Pin(\u001b[38;5;124m\"\u001b[39m\u001b[38;5;124mLED\u001b[39m\u001b[38;5;124m\"\u001b[39m,Pin\u001b[38;5;241m.\u001b[39mOUT)\n\u001b[0;32m      5\u001b[0m \u001b[38;5;28;01mdef\u001b[39;00m \u001b[38;5;21msecond1\u001b[39m(t):\n",
      "\u001b[1;31mModuleNotFoundError\u001b[0m: No module named 'machine'"
     ]
    }
   ],
   "source": [
    "from machine import Pin,Timer\n",
    "\n",
    "led25 = Pin(\"LED\",Pin.OUT)\n",
    "\n",
    "def second1(t):\n",
    "    print(\"過1秒\")\n",
    "    led25.toggle()\n",
    "\n",
    "tim1 = Timer(period=1000, mode=Timer.PERIODIC, callback=second1)\n"
   ]
  }
 ],
 "metadata": {
  "kernelspec": {
   "display_name": "Python 3",
   "language": "python",
   "name": "python3"
  },
  "language_info": {
   "codemirror_mode": {
    "name": "ipython",
    "version": 3
   },
   "file_extension": ".py",
   "mimetype": "text/x-python",
   "name": "python",
   "nbconvert_exporter": "python",
   "pygments_lexer": "ipython3",
   "version": "3.10.8"
  }
 },
 "nbformat": 4,
 "nbformat_minor": 2
}
