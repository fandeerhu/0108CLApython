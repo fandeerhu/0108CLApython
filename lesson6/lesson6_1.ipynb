{
 "cells": [
  {
   "cell_type": "code",
   "execution_count": 18,
   "metadata": {},
   "outputs": [
    {
     "ename": "IndentationError",
     "evalue": "expected an indented block after function definition on line 3 (4026663056.py, line 4)",
     "output_type": "error",
     "traceback": [
      "\u001b[1;36m  Cell \u001b[1;32mIn[18], line 4\u001b[1;36m\u001b[0m\n\u001b[1;33m    print (\"過5秒\")\u001b[0m\n\u001b[1;37m    ^\u001b[0m\n\u001b[1;31mIndentationError\u001b[0m\u001b[1;31m:\u001b[0m expected an indented block after function definition on line 3\n"
     ]
    }
   ],
   "source": [
    "from machine import Pin,Timer\n",
    "\n",
    "def second5(t):\n",
    "print (\"過5秒\")\n",
    "    \n",
    "def second1(t):\n",
    "print (\"過1秒\")\n",
    "\n",
    "tim = Timer(period=5000, mode=Timer.ONE_SHOT, callback=second5)\n",
    "\n",
    "tim1 = Timer(period=1000, mode=Timer.PERIODIC, callback=second1)"
   ]
  }
 ],
 "metadata": {
  "kernelspec": {
   "display_name": "Python 3",
   "language": "python",
   "name": "python3"
  },
  "language_info": {
   "codemirror_mode": {
    "name": "ipython",
    "version": 3
   },
   "file_extension": ".py",
   "mimetype": "text/x-python",
   "name": "python",
   "nbconvert_exporter": "python",
   "pygments_lexer": "ipython3",
   "version": "3.10.8"
  }
 },
 "nbformat": 4,
 "nbformat_minor": 2
}
